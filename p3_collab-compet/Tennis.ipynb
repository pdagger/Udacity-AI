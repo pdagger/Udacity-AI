{
 "cells": [
  {
   "cell_type": "markdown",
   "metadata": {},
   "source": [
    "# Collaboration and Competition\n",
    "\n",
    "---\n",
    "\n",
    "In this notebook, you will learn how to use the Unity ML-Agents environment for the third project of the [Deep Reinforcement Learning Nanodegree](https://www.udacity.com/course/deep-reinforcement-learning-nanodegree--nd893) program.\n",
    "\n",
    "### 1. Start the Environment\n",
    "\n",
    "We begin by importing the necessary packages.  If the code cell below returns an error, please revisit the project instructions to double-check that you have installed [Unity ML-Agents](https://github.com/Unity-Technologies/ml-agents/blob/master/docs/Installation.md) and [NumPy](http://www.numpy.org/)."
   ]
  },
  {
   "cell_type": "code",
   "execution_count": 1,
   "metadata": {},
   "outputs": [],
   "source": [
    "from unityagents import UnityEnvironment\n",
    "import numpy as np"
   ]
  },
  {
   "cell_type": "markdown",
   "metadata": {},
   "source": [
    "Next, we will start the environment!  **_Before running the code cell below_**, change the `file_name` parameter to match the location of the Unity environment that you downloaded.\n",
    "\n",
    "- **Mac**: `\"path/to/Tennis.app\"`\n",
    "- **Windows** (x86): `\"path/to/Tennis_Windows_x86/Tennis.exe\"`\n",
    "- **Windows** (x86_64): `\"path/to/Tennis_Windows_x86_64/Tennis.exe\"`\n",
    "- **Linux** (x86): `\"path/to/Tennis_Linux/Tennis.x86\"`\n",
    "- **Linux** (x86_64): `\"path/to/Tennis_Linux/Tennis.x86_64\"`\n",
    "- **Linux** (x86, headless): `\"path/to/Tennis_Linux_NoVis/Tennis.x86\"`\n",
    "- **Linux** (x86_64, headless): `\"path/to/Tennis_Linux_NoVis/Tennis.x86_64\"`\n",
    "\n",
    "For instance, if you are using a Mac, then you downloaded `Tennis.app`.  If this file is in the same folder as the notebook, then the line below should appear as follows:\n",
    "```\n",
    "env = UnityEnvironment(file_name=\"Tennis.app\")\n",
    "```"
   ]
  },
  {
   "cell_type": "code",
   "execution_count": 2,
   "metadata": {},
   "outputs": [
    {
     "name": "stderr",
     "output_type": "stream",
     "text": [
      "INFO:unityagents:\n",
      "'Academy' started successfully!\n",
      "Unity Academy name: Academy\n",
      "        Number of Brains: 1\n",
      "        Number of External Brains : 1\n",
      "        Lesson number : 0\n",
      "        Reset Parameters :\n",
      "\t\t\n",
      "Unity brain name: TennisBrain\n",
      "        Number of Visual Observations (per agent): 0\n",
      "        Vector Observation space type: continuous\n",
      "        Vector Observation space size (per agent): 8\n",
      "        Number of stacked Vector Observation: 3\n",
      "        Vector Action space type: continuous\n",
      "        Vector Action space size (per agent): 2\n",
      "        Vector Action descriptions: , \n"
     ]
    }
   ],
   "source": [
    "env = UnityEnvironment(file_name=\"./Tennis_Linux/Tennis.x86_64\")"
   ]
  },
  {
   "cell_type": "markdown",
   "metadata": {},
   "source": [
    "Environments contain **_brains_** which are responsible for deciding the actions of their associated agents. Here we check for the first brain available, and set it as the default brain we will be controlling from Python."
   ]
  },
  {
   "cell_type": "code",
   "execution_count": 3,
   "metadata": {},
   "outputs": [],
   "source": [
    "# get the default brain\n",
    "brain_name = env.brain_names[0]\n",
    "brain = env.brains[brain_name]"
   ]
  },
  {
   "cell_type": "markdown",
   "metadata": {},
   "source": [
    "### 2. Examine the State and Action Spaces\n",
    "\n",
    "In this environment, two agents control rackets to bounce a ball over a net. If an agent hits the ball over the net, it receives a reward of +0.1.  If an agent lets a ball hit the ground or hits the ball out of bounds, it receives a reward of -0.01.  Thus, the goal of each agent is to keep the ball in play.\n",
    "\n",
    "The observation space consists of 8 variables corresponding to the position and velocity of the ball and racket. Two continuous actions are available, corresponding to movement toward (or away from) the net, and jumping. \n",
    "\n",
    "Run the code cell below to print some information about the environment."
   ]
  },
  {
   "cell_type": "code",
   "execution_count": 4,
   "metadata": {},
   "outputs": [
    {
     "name": "stdout",
     "output_type": "stream",
     "text": [
      "Number of agents: 2\n",
      "Size of each action: 2\n",
      "There are 2 agents. Each observes a state with length: 24\n",
      "The state for the first agent looks like: [ 0.          0.          0.          0.          0.          0.\n",
      "  0.          0.          0.          0.          0.          0.\n",
      "  0.          0.          0.          0.         -6.65278625 -1.5\n",
      " -0.          0.          6.83172083  6.         -0.          0.        ]\n"
     ]
    }
   ],
   "source": [
    "# reset the environment\n",
    "env_info = env.reset(train_mode=True)[brain_name]\n",
    "\n",
    "# number of agents \n",
    "num_agents = len(env_info.agents)\n",
    "print('Number of agents:', num_agents)\n",
    "\n",
    "# size of each action\n",
    "action_size = brain.vector_action_space_size\n",
    "print('Size of each action:', action_size)\n",
    "\n",
    "# examine the state space \n",
    "states = env_info.vector_observations\n",
    "state_size = states.shape[1]\n",
    "print('There are {} agents. Each observes a state with length: {}'.format(states.shape[0], state_size))\n",
    "print('The state for the first agent looks like:', states[0])"
   ]
  },
  {
   "cell_type": "markdown",
   "metadata": {},
   "source": [
    "### 3. Take Random Actions in the Environment\n",
    "\n",
    "In the next code cell, you will learn how to use the Python API to control the agents and receive feedback from the environment.\n",
    "\n",
    "Once this cell is executed, you will watch the agents' performance, if they select actions at random with each time step.  A window should pop up that allows you to observe the agents.\n",
    "\n",
    "Of course, as part of the project, you'll have to change the code so that the agents are able to use their experiences to gradually choose better actions when interacting with the environment!"
   ]
  },
  {
   "cell_type": "code",
   "execution_count": 5,
   "metadata": {},
   "outputs": [
    {
     "name": "stdout",
     "output_type": "stream",
     "text": [
      "Score (max over agents) from episode 1: 0.0\n",
      "Score (max over agents) from episode 2: 0.0\n",
      "Score (max over agents) from episode 3: 0.0\n",
      "Score (max over agents) from episode 4: 0.0\n",
      "Score (max over agents) from episode 5: 0.0\n"
     ]
    }
   ],
   "source": [
    "for i in range(1, 6):                                      # play game for 5 episodes\n",
    "    env_info = env.reset(train_mode=False)[brain_name]     # reset the environment    \n",
    "    states = env_info.vector_observations                  # get the current state (for each agent)\n",
    "    scores = np.zeros(num_agents)                          # initialize the score (for each agent)\n",
    "    while True:\n",
    "        actions = np.random.randn(num_agents, action_size) # select an action (for each agent)\n",
    "        actions = np.clip(actions, -1, 1)                  # all actions between -1 and 1\n",
    "        env_info = env.step(actions)[brain_name]           # send all actions to tne environment\n",
    "        next_states = env_info.vector_observations         # get next state (for each agent)\n",
    "        rewards = env_info.rewards                         # get reward (for each agent)\n",
    "        dones = env_info.local_done                        # see if episode finished\n",
    "        scores += env_info.rewards                         # update the score (for each agent)\n",
    "        states = next_states                               # roll over states to next time step\n",
    "        if np.any(dones):                                  # exit loop if episode finished\n",
    "            break\n",
    "    print('Score (max over agents) from episode {}: {}'.format(i, np.max(scores)))"
   ]
  },
  {
   "cell_type": "markdown",
   "metadata": {},
   "source": [
    "When finished, you can close the environment."
   ]
  },
  {
   "cell_type": "markdown",
   "metadata": {},
   "source": [
    "```\n",
    "env.close()\n",
    "```"
   ]
  },
  {
   "cell_type": "markdown",
   "metadata": {},
   "source": [
    "### 4. It's Your Turn!\n",
    "\n",
    "Now it's your turn to train your own agent to solve the environment!  When training the environment, set `train_mode=True`, so that the line for resetting the environment looks like the following:\n",
    "```python\n",
    "env_info = env.reset(train_mode=True)[brain_name]\n",
    "```\n",
    "\n",
    "The multi-agent is trained using the Deep Deterministic Policy Gradient (DDPG) presented [here](https://arxiv.org/abs/1509.02971). The implementation below is based on the solution to the exercise at [this link](https://github.com/udacity/deep-reinforcement-learning/tree/master/ddpg-pendulum).\n",
    "\n",
    "The MADDPG algorithm consists of two neural networks (NN), the actor and the critic. The actor determines the best action to take, and the critic uses the action given by the actor to evaluate the optimum action value function.\n",
    "\n",
    "- Initialization of the neural networks and weights and the q values (usually done by a random initialization).\n",
    "- Initizialization of a replay memory to store experience tuples of the form (S, A, R, S').\n",
    "- When sufficient tuples are store in memory, training of the deep learning models for the actor and the critic can starts. \n",
    "- Two target NN's are used to implement the fixed Q-targets technique. One target for the actor and one target for the critic. The target neural networks can be initialize with the same weights of the initial actor and critic neural networks.\n",
    "- The actor and critic networks are not trained at each time step of an episode, instead, they are trained 10 times every 20 steps. On the other hand, the target networks are softly updated. This means that the weights of the actor and the critic are slowly blended into their respective target networks.\n",
    "- Gradient clipping is used when training the critic network.\n",
    "- Ornsetein-Uhlenbeck noise is added to the action space.\n",
    "\n",
    "The implementation of the MADDPG is on files `maddpg_agent.py` and `ma_model.py`. The latest file contains the actor and critic networks architecture. In the present case, for the actor a simple network with 2 hidden layers and one output layer was chosen. The actor NN is as follows:\n",
    "\n",
    "- First hidden layer: linear with 512 units and relu activation. The input size corresponds to 33, the dimension of the state space. \n",
    "- Second hidden layer: linear with 256 units and relu activation.\n",
    "- Output layer: linear with 4 units corresponding to the 4 possible actions the agent can take. The hyperbolic tangent function is used as the activation.\n",
    "- Learning rate: 0.0001.\n",
    "\n",
    "The critic NN is as follows:\n",
    "\n",
    "- First hidden layer: linear with 512 units and relu activation. The input size corresponds to 33, the dimension of the state space. \n",
    "- Second hidden layer: linear with 256 units and relu activation.\n",
    "- Output layer: linear with 4 units corresponding to the 4 possible actions the agent can take. No activation function is applied.\n",
    "- Learning rate: 0.0001.\n",
    "\n",
    "The remaining parameters where:\n",
    "\n",
    "- Gamma: 0.99.\n",
    "- Soft update parameter Tau: 0.001. \n",
    "\n",
    "In order to visualize the agents behavior at each stage of learning, the weights are saved in `./checkpoints`. The weights for the solved agent are saved as `./checkpoints/solved_checkpoint.pth`.\n"
   ]
  },
  {
   "cell_type": "code",
   "execution_count": 6,
   "metadata": {},
   "outputs": [],
   "source": [
    "from unityagents import UnityEnvironment\n",
    "import random\n",
    "import torch\n",
    "import numpy as np\n",
    "from collections import deque\n",
    "import matplotlib.pyplot as plt\n",
    "from maddpg_agent import Agent\n",
    "%matplotlib inline\n",
    "\n",
    "agent = Agent(num_agents=num_agents, state_size=state_size, action_size=action_size, random_seed=0)"
   ]
  },
  {
   "cell_type": "code",
   "execution_count": 7,
   "metadata": {},
   "outputs": [
    {
     "name": "stdout",
     "output_type": "stream",
     "text": [
      "Episode 500\tAverage Score: 0.00\n",
      "Episode 1000\tAverage Score: 0.01\n",
      "Episode 1500\tAverage Score: 0.03\n",
      "Episode 2000\tAverage Score: 0.10\n",
      "Episode 2206\tAverage Score: 0.50\n",
      "Environment solved in 2106 episodes!\tAverage Score: 0.50\n"
     ]
    }
   ],
   "source": [
    "def maddqn(n_episodes=10000, max_t=1000):\n",
    "    \"\"\"Deep Q-Learning.\n",
    "    \n",
    "In [ ]:\n",
    "\n",
    "    Params\n",
    "    ======\n",
    "        n_episodes (int): maximum number of training episodes\n",
    "        max_t (int): maximum number of timesteps per episode\n",
    "        eps_start (float): starting value of epsilon, for epsilon-greedy action selection\n",
    "        eps_end (float): minimum value of epsilon\n",
    "        eps_decay (float): multiplicative factor (per episode) for decreasing epsilon\n",
    "    \"\"\"\n",
    "    scoreses = []                                         # list containing mean scores from each episode\n",
    "    scores_window = deque(maxlen=100)                     # last 100 scores\n",
    "    for i_episode in range(1, n_episodes+1):\n",
    "        env_info = env.reset(train_mode=True)[brain_name] # reset the environment\n",
    "        states = env_info.vector_observations             # get the current states\n",
    "        scores = np.zeros(num_agents)                     # initialize the score for each agent\n",
    "        for t in range(max_t):\n",
    "            actions = agent.act(states)                   # select an action for each agent\n",
    "            env_info = env.step(actions)[brain_name]      # send the actions to the environment\n",
    "            next_states = env_info.vector_observations    # get the next states\n",
    "            rewards = env_info.rewards                    # get the rewards\n",
    "            dones = env_info.local_done                   # see if episode has finished for an agent\n",
    "            agent.step(states, actions, rewards, next_states, dones, t)\n",
    "            states = next_states\n",
    "            scores += rewards\n",
    "            if np.any(dones):\n",
    "                break\n",
    "        scores_window.append(np.max(scores))              # save most recent score\n",
    "        scoreses.append(np.mean(scores))                  # save most recent score\n",
    "        print('\\rEpisode {}\\tAverage Score: {:.2f}'.format(i_episode, np.mean(scores_window)), end=\"\")\n",
    "        if i_episode % 500 == 0:\n",
    "            print('\\rEpisode {}\\tAverage Score: {:.2f}'.format(i_episode, np.mean(scores_window)))\n",
    "            if i_episode < 1000:\n",
    "                torch.save(agent.actor_local.state_dict(), './checkpoints/0'+str(i_episode)+'actor_checkpoint.pth')\n",
    "                torch.save(agent.critic_local.state_dict(), './checkpoints/0'+str(i_episode)+'critic_checkpoint.pth')\n",
    "            else:\n",
    "                torch.save(agent.actor_local.state_dict(), './checkpoints/'+str(i_episode)+'actor_checkpoint.pth')\n",
    "                torch.save(agent.critic_local.state_dict(), './checkpoints/'+str(i_episode)+'critic_checkpoint.pth')\n",
    "        if np.mean(scores_window)>=0.5:\n",
    "            print('\\nEnvironment solved in {:d} episodes!\\tAverage Score: {:.2f}'.format(i_episode-100, np.mean(scores_window)))\n",
    "            torch.save(agent.actor_local.state_dict(), './checkpoints/solved_actor_checkpoint.pth')\n",
    "            torch.save(agent.critic_local.state_dict(), './checkpoints/solved_critic_checkpoint.pth')\n",
    "            break\n",
    "    return scoreses\n",
    "\n",
    "scores = maddqn()"
   ]
  },
  {
   "cell_type": "code",
   "execution_count": 11,
   "metadata": {},
   "outputs": [
    {
     "data": {
      "image/png": "[encoded data removed]",
      "text/plain": [
       "<Figure size 432x288 with 1 Axes>"
      ]
     },
     "metadata": {
      "needs_background": "light"
     },
     "output_type": "display_data"
    }
   ],
   "source": [
    "fig = plt.figure()\n",
    "ax = fig.add_subplot(111)\n",
    "plt.plot(np.concatenate((np.arange(len(scores)),len(scores)), axis=None), np.concatenate((0,scores), axis=None))\n",
    "plt.axhline(y=0.5, color='r', linestyle='--')\n",
    "plt.axvline(x=2106, color='r', linestyle='--')\n",
    "plt.ylabel('Score')\n",
    "plt.xlabel('Episode #')\n",
    "plt.show()"
   ]
  },
  {
   "cell_type": "markdown",
   "metadata": {},
   "source": [
    "The plot above shows how the agent learns over time until it reaches an average score over 100 episodes greater than 0.5. The score target, when it is admitted that the agent solves the environment, is reached in 2106 episodes.\n",
    "\n",
    "Let's visualize the agents behavior as it is being trained. This is achieved by loading the saved weights, as the agent was trained, into the model."
   ]
  },
  {
   "cell_type": "code",
   "execution_count": 28,
   "metadata": {},
   "outputs": [
    {
     "name": "stdout",
     "output_type": "stream",
     "text": [
      "Average score after 500 training episodes: -0.00\n",
      "Average score after 1000 training episodes: -0.00\n",
      "Average score after 1500 training episodes: 0.15\n",
      "Average score after 2000 training episodes: 0.05\n"
     ]
    }
   ],
   "source": [
    "import os\n",
    "import re\n",
    "\n",
    "dir_name = './checkpoints'                             # folder where checkpoints were saved\n",
    "files = [f for f in os.listdir(dir_name)]              # list of checkpoints\n",
    "files.sort()                                           # time steps to display\n",
    "\n",
    "for i in range((len(files)-2)//2):\n",
    "    # load the weights from file\n",
    "    agent.actor_local.load_state_dict(torch.load(dir_name+'/'+files[i*2]))\n",
    "    agent.critic_local.load_state_dict(torch.load(dir_name+'/'+files[i*2+1]))\n",
    "    \n",
    "    env_info = env.reset(train_mode=False)[brain_name]  # reset the environment\n",
    "    states = env_info.vector_observations               # get the current states\n",
    "    scores = np.zeros(num_agents)                       # initialize the score for each agent\n",
    "    while True:\n",
    "        actions = agent.act(states, add_noise=False)    # select an action for each agent\n",
    "        env_info = env.step(actions)[brain_name]        # send the actions to the environment\n",
    "        next_states = env_info.vector_observations      # get the next states \n",
    "        rewards = env_info.rewards                      # get the rewards\n",
    "        dones = env_info.local_done                     # see if episode has finished for an agent\n",
    "        scores += rewards                               # update the scores\n",
    "        states = next_states                            # roll over the states to next time step\n",
    "        \n",
    "        if np.any(dones):                                       \n",
    "            break\n",
    "\n",
    "    print(\"Average score after {} training episodes: {:.2f}\".format(int(re.findall('[0-9]+', files[i*2])[0]), \\\n",
    "                                                                np.mean(scores)))"
   ]
  },
  {
   "cell_type": "markdown",
   "metadata": {},
   "source": [
    "Let's visualize the solved agent."
   ]
  },
  {
   "cell_type": "code",
   "execution_count": 29,
   "metadata": {},
   "outputs": [
    {
     "name": "stdout",
     "output_type": "stream",
     "text": [
      "Score: 2.60\n"
     ]
    }
   ],
   "source": [
    "agent.actor_local.load_state_dict(torch.load('./checkpoints/solved_actor_checkpoint.pth'))\n",
    "agent.critic_local.load_state_dict(torch.load('./checkpoints/solved_critic_checkpoint.pth'))\n",
    "\n",
    "env_info = env.reset(train_mode=False)[brain_name]  # reset the environment\n",
    "states = env_info.vector_observations               # get the current states\n",
    "scores = np.zeros(num_agents)                       # initialize the score for each agent\n",
    "while True:\n",
    "    actions = agent.act(states, add_noise=False)    # select an action for each agent\n",
    "    env_info = env.step(actions)[brain_name]        # send the actions to the environment\n",
    "    next_states = env_info.vector_observations      # get the next states \n",
    "    rewards = env_info.rewards                      # get the rewards\n",
    "    dones = env_info.local_done                     # see if episode has finished for an agent\n",
    "    scores += rewards                               # update the scores\n",
    "    states = next_states                            # roll over the states to next time step\n",
    "\n",
    "    if np.any(dones):                                       \n",
    "        break\n",
    "\n",
    "print(\"Score: {:.2f}\".format(np.mean(scores)))"
   ]
  },
  {
   "cell_type": "code",
   "execution_count": 32,
   "metadata": {},
   "outputs": [],
   "source": [
    "env.close()"
   ]
  },
  {
   "cell_type": "markdown",
   "metadata": {},
   "source": [
    "#### Possible improvements:\n",
    "\n",
    "An option to improve the algortihm is to implement prioritized experience replay. In this technique, we admit that some experience tuples (S, A, R, S') are more important for learning than others. So the key here, is to identify the more meaningful tuples for learning contained in the replay memory. It just needs to be kept in mind that the agent needs to learn from all the experiences even if some are more important than others.\n",
    "\n",
    "Other option would be to apply noise to the NN's parameters instead of applying Ornsetein-Uhlenbeck noise in the action space as shown [here](https://blog.openai.com/better-exploration-with-parameter-noise/).\n",
    "\n",
    "Finally, an algorithm combining the two approaches just exposed can be implemented to further improve the agent."
   ]
  }
 ],
 "metadata": {
  "kernelspec": {
   "display_name": "Python 3",
   "language": "python",
   "name": "python3"
  },
  "language_info": {
   "codemirror_mode": {
    "name": "ipython",
    "version": 3
   },
   "file_extension": ".py",
   "mimetype": "text/x-python",
   "name": "python",
   "nbconvert_exporter": "python",
   "pygments_lexer": "ipython3",
   "version": "3.6.8"
  }
 },
 "nbformat": 4,
 "nbformat_minor": 2
}

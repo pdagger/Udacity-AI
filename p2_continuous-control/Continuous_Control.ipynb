{
 "cells": [
  {
   "cell_type": "markdown",
   "metadata": {},
   "source": [
    "# Continuous Control\n",
    "\n",
    "---\n",
    "\n",
    "In this notebook, you will learn how to use the Unity ML-Agents environment for the second project of the [Deep Reinforcement Learning Nanodegree](https://www.udacity.com/course/deep-reinforcement-learning-nanodegree--nd893) program.\n",
    "\n",
    "### 1. Start the Environment\n",
    "\n",
    "We begin by importing the necessary packages.  If the code cell below returns an error, please revisit the project instructions to double-check that you have installed [Unity ML-Agents](https://github.com/Unity-Technologies/ml-agents/blob/master/docs/Installation.md) and [NumPy](http://www.numpy.org/)."
   ]
  },
  {
   "cell_type": "code",
   "execution_count": 1,
   "metadata": {},
   "outputs": [],
   "source": [
    "from unityagents import UnityEnvironment\n",
    "import numpy as np"
   ]
  },
  {
   "cell_type": "markdown",
   "metadata": {},
   "source": [
    "Next, we will start the environment!  **_Before running the code cell below_**, change the `file_name` parameter to match the location of the Unity environment that you downloaded.\n",
    "\n",
    "- **Mac**: `\"path/to/Reacher.app\"`\n",
    "- **Windows** (x86): `\"path/to/Reacher_Windows_x86/Reacher.exe\"`\n",
    "- **Windows** (x86_64): `\"path/to/Reacher_Windows_x86_64/Reacher.exe\"`\n",
    "- **Linux** (x86): `\"path/to/Reacher_Linux/Reacher.x86\"`\n",
    "- **Linux** (x86_64): `\"path/to/Reacher_Linux/Reacher.x86_64\"`\n",
    "- **Linux** (x86, headless): `\"path/to/Reacher_Linux_NoVis/Reacher.x86\"`\n",
    "- **Linux** (x86_64, headless): `\"path/to/Reacher_Linux_NoVis/Reacher.x86_64\"`\n",
    "\n",
    "For instance, if you are using a Mac, then you downloaded `Reacher.app`.  If this file is in the same folder as the notebook, then the line below should appear as follows:\n",
    "```\n",
    "env = UnityEnvironment(file_name=\"Reacher.app\")\n",
    "```"
   ]
  },
  {
   "cell_type": "code",
   "execution_count": 2,
   "metadata": {},
   "outputs": [
    {
     "name": "stderr",
     "output_type": "stream",
     "text": [
      "INFO:unityagents:\n",
      "'Academy' started successfully!\n",
      "Unity Academy name: Academy\n",
      "        Number of Brains: 1\n",
      "        Number of External Brains : 1\n",
      "        Lesson number : 0\n",
      "        Reset Parameters :\n",
      "\t\tgoal_size -> 5.0\n",
      "\t\tgoal_speed -> 1.0\n",
      "Unity brain name: ReacherBrain\n",
      "        Number of Visual Observations (per agent): 0\n",
      "        Vector Observation space type: continuous\n",
      "        Vector Observation space size (per agent): 33\n",
      "        Number of stacked Vector Observation: 1\n",
      "        Vector Action space type: continuous\n",
      "        Vector Action space size (per agent): 4\n",
      "        Vector Action descriptions: , , , \n"
     ]
    }
   ],
   "source": [
    "env = UnityEnvironment(file_name='./Reacher_20_agents_Linux/Reacher.x86_64')"
   ]
  },
  {
   "cell_type": "markdown",
   "metadata": {},
   "source": [
    "Environments contain **_brains_** which are responsible for deciding the actions of their associated agents. Here we check for the first brain available, and set it as the default brain we will be controlling from Python."
   ]
  },
  {
   "cell_type": "code",
   "execution_count": 3,
   "metadata": {},
   "outputs": [],
   "source": [
    "# get the default brain\n",
    "brain_name = env.brain_names[0]\n",
    "brain = env.brains[brain_name]"
   ]
  },
  {
   "cell_type": "markdown",
   "metadata": {},
   "source": [
    "### 2. Examine the State and Action Spaces\n",
    "\n",
    "In this environment, a double-jointed arm can move to target locations. A reward of `+0.1` is provided for each step that the agent's hand is in the goal location. Thus, the goal of your agent is to maintain its position at the target location for as many time steps as possible.\n",
    "\n",
    "The observation space consists of `33` variables corresponding to position, rotation, velocity, and angular velocities of the arm.  Each action is a vector with four numbers, corresponding to torque applicable to two joints.  Every entry in the action vector must be a number between `-1` and `1`.\n",
    "\n",
    "Run the code cell below to print some information about the environment."
   ]
  },
  {
   "cell_type": "code",
   "execution_count": 4,
   "metadata": {},
   "outputs": [
    {
     "name": "stdout",
     "output_type": "stream",
     "text": [
      "Number of agents: 20\n",
      "Size of each action: 4\n",
      "There are 20 agents. Each observes a state with length: 33\n",
      "The state for the first agent looks like: [ 0.00000000e+00 -4.00000000e+00  0.00000000e+00  1.00000000e+00\n",
      " -0.00000000e+00 -0.00000000e+00 -4.37113883e-08  0.00000000e+00\n",
      "  0.00000000e+00  0.00000000e+00  0.00000000e+00  0.00000000e+00\n",
      "  0.00000000e+00  0.00000000e+00 -1.00000000e+01  0.00000000e+00\n",
      "  1.00000000e+00 -0.00000000e+00 -0.00000000e+00 -4.37113883e-08\n",
      "  0.00000000e+00  0.00000000e+00  0.00000000e+00  0.00000000e+00\n",
      "  0.00000000e+00  0.00000000e+00  5.75471878e+00 -1.00000000e+00\n",
      "  5.55726624e+00  0.00000000e+00  1.00000000e+00  0.00000000e+00\n",
      " -1.68164849e-01]\n"
     ]
    }
   ],
   "source": [
    "# reset the environment\n",
    "env_info = env.reset(train_mode=True)[brain_name]\n",
    "\n",
    "# number of agents\n",
    "num_agents = len(env_info.agents)\n",
    "print('Number of agents:', num_agents)\n",
    "\n",
    "# size of each action\n",
    "action_size = brain.vector_action_space_size\n",
    "print('Size of each action:', action_size)\n",
    "\n",
    "# examine the state space \n",
    "states = env_info.vector_observations\n",
    "state_size = states.shape[1]\n",
    "print('There are {} agents. Each observes a state with length: {}'.format(states.shape[0], state_size))\n",
    "print('The state for the first agent looks like:', states[0])"
   ]
  },
  {
   "cell_type": "markdown",
   "metadata": {},
   "source": [
    "### 3. Take Random Actions in the Environment\n",
    "\n",
    "In the next code cell, you will learn how to use the Python API to control the agent and receive feedback from the environment.\n",
    "\n",
    "Once this cell is executed, you will watch the agent's performance, if it selects an action at random with each time step.  A window should pop up that allows you to observe the agent, as it moves through the environment.  \n",
    "\n",
    "Of course, as part of the project, you'll have to change the code so that the agent is able to use its experience to gradually choose better actions when interacting with the environment!"
   ]
  },
  {
   "cell_type": "code",
   "execution_count": 5,
   "metadata": {},
   "outputs": [
    {
     "name": "stdout",
     "output_type": "stream",
     "text": [
      "Total score (averaged over agents) this episode: 0.11999999731779099\n"
     ]
    }
   ],
   "source": [
    "env_info = env.reset(train_mode=False)[brain_name]     # reset the environment    \n",
    "states = env_info.vector_observations                  # get the current state (for each agent)\n",
    "scores = np.zeros(num_agents)                          # initialize the score (for each agent)\n",
    "while True:\n",
    "    actions = np.random.randn(num_agents, action_size) # select an action (for each agent)\n",
    "    actions = np.clip(actions, -1, 1)                  # all actions between -1 and 1\n",
    "    env_info = env.step(actions)[brain_name]           # send all actions to tne environment\n",
    "    next_states = env_info.vector_observations         # get next state (for each agent)\n",
    "    rewards = env_info.rewards                         # get reward (for each agent)\n",
    "    dones = env_info.local_done                        # see if episode finished\n",
    "    scores += env_info.rewards                         # update the score (for each agent)\n",
    "    states = next_states                               # roll over states to next time step\n",
    "    if np.any(dones):                                  # exit loop if episode finished\n",
    "        break\n",
    "print('Total score (averaged over agents) this episode: {}'.format(np.mean(scores)))"
   ]
  },
  {
   "cell_type": "markdown",
   "metadata": {},
   "source": [
    "When finished, you can close the environment."
   ]
  },
  {
   "cell_type": "markdown",
   "metadata": {},
   "source": [
    "```python\n",
    "env.close()\n",
    "```"
   ]
  },
  {
   "cell_type": "markdown",
   "metadata": {},
   "source": [
    "### 4. It's Your Turn!\n",
    "\n",
    "Now it's your turn to train your own agent to solve the environment!  When training the environment, set `train_mode=True`, so that the line for resetting the environment looks like the following:\n",
    "```python\n",
    "env_info = env.reset(train_mode=True)[brain_name]\n",
    "```\n",
    "\n",
    "The agent is trained using the Deep Deterministic Policy Gradient (DDPG) presented [here](https://arxiv.org/abs/1509.02971). The implementation below is based on the solution to the exercise at [this link](https://github.com/udacity/deep-reinforcement-learning/tree/master/ddpg-pendulum).\n",
    "\n",
    "The DDPG algorithm consists of two neural networks (NN), the actor and the critic. The actor determines the best action to take, and the critic uses the action given by the actor to evaluate the optimum action value function.\n",
    "\n",
    "- Initialization of the neural networks and weights and the q values (usually done by a random initialization).\n",
    "- Initizialization of a replay memory to store experience tuples of the form (S, A, R, S').\n",
    "- When sufficient tuples are store in memory, training of the deep learning models for the actor and the critic can starts. \n",
    "- Two target NN's are used to implement the fixed Q-targets technique. One target for the actor and one target for the critic. The target neural networks can be initialize with the same weights of the initial actor and critic neural networks.\n",
    "- The actor and critic networks are not trained at each time step of an episode, instead, they are trained 10 times every 20 steps. On the other hand, the target networks are softly updated. This means that the weights of the actor and the critic are slowly blended into their respective target networks.\n",
    "- Gradient clipping is used when training the critic network.\n",
    "- Ornsetein-Uhlenbeck noise is added to the action space.\n",
    "\n",
    "The implementation of the DDPG is on files `CC_ddpg_agent.py` and `CC_model.py`. The latest file contains the actor and critic networks architecture. In the present case, for the actor a simple network with 2 hidden layers and one output layer was chosen. The actor NN is as follows:\n",
    "\n",
    "- First hidden layer: linear with 512 units and relu activation. The input size corresponds to 33, the dimension of the state space. \n",
    "- Second hidden layer: linear with 256 units and relu activation.\n",
    "- Output layer: linear with 4 units corresponding to the 4 possible actions the agent can take. The hyperbolic tangent function is used as the activation.\n",
    "- Learning rate: 0.0001.\n",
    "\n",
    "The critic NN is as follows:\n",
    "\n",
    "- First hidden layer: linear with 512 units and relu activation. The input size corresponds to 33, the dimension of the state space. \n",
    "- Second hidden layer: linear with 256 units and relu activation.\n",
    "- Output layer: linear with 4 units corresponding to the 4 possible actions the agent can take. No activation function is applied.\n",
    "- Learning rate: 0.0001.\n",
    "\n",
    "The remaining parameters where:\n",
    "\n",
    "- Gamma: 0.99.\n",
    "- Soft update parameter Tau: 0.001. \n",
    "\n",
    "In order to visualize the agents behavior at each stage of learning, the weights are saved in `./checkpoints`. The weights for the solved agent are saved as `./checkpoints/solved_checkpoint.pth`.\n"
   ]
  },
  {
   "cell_type": "code",
   "execution_count": 5,
   "metadata": {},
   "outputs": [],
   "source": [
    "from unityagents import UnityEnvironment\n",
    "import random\n",
    "import torch\n",
    "import numpy as np\n",
    "from collections import deque\n",
    "import matplotlib.pyplot as plt\n",
    "from CC_ddpg_agent import Agent\n",
    "%matplotlib inline\n",
    "\n",
    "agent = Agent(num_agents=num_agents, state_size=state_size, action_size=action_size, random_seed=0)"
   ]
  },
  {
   "cell_type": "code",
   "execution_count": 7,
   "metadata": {
    "scrolled": false
   },
   "outputs": [
    {
     "name": "stdout",
     "output_type": "stream",
     "text": [
      "Episode 20\tAverage Score: 1.24\n",
      "Episode 40\tAverage Score: 6.09\n",
      "Episode 60\tAverage Score: 16.08\n",
      "Episode 80\tAverage Score: 21.49\n",
      "Episode 100\tAverage Score: 24.71\n",
      "Episode 115\tAverage Score: 30.25\n",
      "Environment solved in 115 episodes!\tAverage Score: 30.25\n"
     ]
    }
   ],
   "source": [
    "def ddqn(n_episodes=2000, max_t=1000):\n",
    "    \"\"\"Deep Q-Learning.\n",
    "    \n",
    "In [ ]:\n",
    "\n",
    "    Params\n",
    "    ======\n",
    "        n_episodes (int): maximum number of training episodes\n",
    "        max_t (int): maximum number of timesteps per episode\n",
    "        eps_start (float): starting value of epsilon, for epsilon-greedy action selection\n",
    "        eps_end (float): minimum value of epsilon\n",
    "        eps_decay (float): multiplicative factor (per episode) for decreasing epsilon\n",
    "    \"\"\"\n",
    "    scoreses = []                                         # list containing mean scores from each episode\n",
    "    scores_window = deque(maxlen=100)                     # last 100 scores\n",
    "    for i_episode in range(1, n_episodes+1):\n",
    "        env_info = env.reset(train_mode=True)[brain_name] # reset the environment\n",
    "        states = env_info.vector_observations             # get the current states\n",
    "        scores = np.zeros(num_agents)                     # initialize the score for each agent\n",
    "        for t in range(max_t):\n",
    "            actions = agent.act(states)                   # select an action for each agent\n",
    "            env_info = env.step(actions)[brain_name]      # send the actions to the environment\n",
    "            next_states = env_info.vector_observations    # get the next states\n",
    "            rewards = env_info.rewards                    # get the rewards\n",
    "            dones = env_info.local_done                   # see if episode has finished for an agent\n",
    "            agent.step(states, actions, rewards, next_states, dones, t)\n",
    "            states = next_states\n",
    "            scores += rewards\n",
    "            if np.any(dones):\n",
    "                break\n",
    "        scores_window.append(np.mean(scores))             # save most recent score\n",
    "        scoreses.append(np.mean(scores))                  # save most recent score\n",
    "        print('\\rEpisode {}\\tAverage Score: {:.2f}'.format(i_episode, np.mean(scores_window)), end=\"\")\n",
    "        if i_episode % 20 == 0:\n",
    "            print('\\rEpisode {}\\tAverage Score: {:.2f}'.format(i_episode, np.mean(scores_window)))\n",
    "            torch.save(agent.actor_local.state_dict(), './checkpoints/0'+str(i_episode)+'actor_checkpoint.pth')\n",
    "            torch.save(agent.critic_local.state_dict(), './checkpoints/0'+str(i_episode)+'critic_checkpoint.pth')\n",
    "        if np.mean(scores_window)>=30:\n",
    "            print('\\nEnvironment solved in {:d} episodes!\\tAverage Score: {:.2f}'.format(i_episode, np.mean(scores_window)))\n",
    "            torch.save(agent.actor_local.state_dict(), './checkpoints/solved_actor_checkpoint.pth')\n",
    "            torch.save(agent.critic_local.state_dict(), './checkpoints/solved_critic_checkpoint.pth')\n",
    "            break\n",
    "    return scoreses\n",
    "\n",
    "scores = ddqn()"
   ]
  },
  {
   "cell_type": "code",
   "execution_count": 11,
   "metadata": {},
   "outputs": [
    {
     "name": "stdout",
     "output_type": "stream",
     "text": [
      "The environment starts to have consistent results (score >= 30) from episode: 41.\n"
     ]
    },
    {
     "data": {
      "image/png": "[encoded data removed]",
      "text/plain": [
       "<Figure size 432x288 with 1 Axes>"
      ]
     },
     "metadata": {
      "needs_background": "light"
     },
     "output_type": "display_data"
    }
   ],
   "source": [
    "for i in range(len(scores)-1, -1,-1):\n",
    "    if scores[i] <= 30:\n",
    "        real_solved_episode = i + 2\n",
    "        break\n",
    "print(\"The environment starts to have consistent results (score >= 30) from episode: %d.\" %(real_solved_episode))\n",
    "# plot the scores\n",
    "fig = plt.figure()\n",
    "ax = fig.add_subplot(111)\n",
    "plt.plot(np.concatenate((np.arange(len(scores)),len(scores)), axis=None), np.concatenate((0,scores), axis=None))\n",
    "plt.axhline(y=30, color='r', linestyle='--')\n",
    "plt.axvline(x=real_solved_episode, color='r', linestyle='--')\n",
    "plt.ylabel('Score')\n",
    "plt.xlabel('Episode #')\n",
    "plt.show()"
   ]
  },
  {
   "cell_type": "markdown",
   "metadata": {},
   "source": [
    "The environment is solved in 115 episodes, which is the episode where mean score in 100 episodes is higher than 30. However, the plot above shows that the environment can be considered as solved after episode 41 because after it, the mean score of the 20 agents never falls under 30."
   ]
  },
  {
   "cell_type": "code",
   "execution_count": 8,
   "metadata": {},
   "outputs": [
    {
     "name": "stdout",
     "output_type": "stream",
     "text": [
      "Average score after 20 training episodes: 2.57\n",
      "Average score after 40 training episodes: 29.79\n",
      "Average score after 60 training episodes: 39.53\n",
      "Average score after 80 training episodes: 39.53\n",
      "Average score after 100 training episodes: 39.54\n"
     ]
    }
   ],
   "source": [
    "import os\n",
    "import re\n",
    "\n",
    "dir_name = './checkpoints'                             # folder where checkpoints were saved\n",
    "files = [f for f in os.listdir(dir_name)]              # list of checkpoints\n",
    "files.sort()                                           # time steps to display\n",
    "\n",
    "for i in range((len(files)-2)//2):\n",
    "    # load the weights from file\n",
    "    agent.actor_local.load_state_dict(torch.load(dir_name+'/'+files[i*2]))\n",
    "    agent.critic_local.load_state_dict(torch.load(dir_name+'/'+files[i*2+1]))\n",
    "\n",
    "    env_info = env.reset(train_mode=False)[brain_name]  # reset the environment\n",
    "    states = env_info.vector_observations               # get the current states\n",
    "    scores = np.zeros(num_agents)                       # initialize the score for each agent\n",
    "    while True:\n",
    "        actions = agent.act(states, add_noise=False)    # select an action for each agent\n",
    "        env_info = env.step(actions)[brain_name]        # send the actions to the environment\n",
    "        next_states = env_info.vector_observations      # get the next states \n",
    "        rewards = env_info.rewards                      # get the rewards\n",
    "        dones = env_info.local_done                     # see if episode has finished for an agent\n",
    "        scores += rewards                               # update the scores\n",
    "        states = next_states                            # roll over the states to next time step\n",
    "        \n",
    "        if np.any(dones):                                       \n",
    "            break\n",
    "\n",
    "    print(\"Average score after {} training episodes: {:.2f}\".format(int(re.findall('[0-9]+', files[i*2])[0]), \\\n",
    "                                                                np.mean(scores)))"
   ]
  },
  {
   "cell_type": "code",
   "execution_count": 12,
   "metadata": {},
   "outputs": [
    {
     "name": "stdout",
     "output_type": "stream",
     "text": [
      "Score: 39.57\n"
     ]
    }
   ],
   "source": [
    "agent.actor_local.load_state_dict(torch.load('./checkpoints/solved_actor_checkpoint.pth'))\n",
    "agent.critic_local.load_state_dict(torch.load('./checkpoints/solved_critic_checkpoint.pth'))\n",
    "\n",
    "env_info = env.reset(train_mode=False)[brain_name]  # reset the environment\n",
    "states = env_info.vector_observations               # get the current states\n",
    "scores = np.zeros(num_agents)                       # initialize the score for each agent\n",
    "while True:\n",
    "    actions = agent.act(states, add_noise=False)    # select an action for each agent\n",
    "    env_info = env.step(actions)[brain_name]        # send the actions to the environment\n",
    "    next_states = env_info.vector_observations      # get the next states \n",
    "    rewards = env_info.rewards                      # get the rewards\n",
    "    dones = env_info.local_done                     # see if episode has finished for an agent\n",
    "    scores += rewards                               # update the scores\n",
    "    states = next_states                            # roll over the states to next time step\n",
    "\n",
    "    if np.any(dones):                                       \n",
    "        break\n",
    "\n",
    "print(\"Score: {:.2f}\".format(np.mean(scores)))"
   ]
  },
  {
   "cell_type": "code",
   "execution_count": 13,
   "metadata": {},
   "outputs": [],
   "source": [
    "env.close()"
   ]
  },
  {
   "cell_type": "markdown",
   "metadata": {},
   "source": [
    "#### Possible improvements:\n",
    "\n",
    "An option to improve the algortihm is to implement prioritized experience replay. In this technique, we admit that some experience tuples (S, A, R, S') are more important for learning than others. So the key here, is to identify the more meaningful tuples for learning contained in the replay memory. It just needs to be kept in mind that the agent needs to learn from all the experiences even if some are more important than others.\n",
    "\n",
    "Other option would be to apply noise to the NN's parameters instead of applying Ornsetein-Uhlenbeck noise in the action space as shown [here](https://blog.openai.com/better-exploration-with-parameter-noise/).\n",
    "\n",
    "Finally, an algorithm combining the two approaches just exposed can be implemented to further improve the agent."
   ]
  }
 ],
 "metadata": {
  "kernelspec": {
   "display_name": "Python 3",
   "language": "python",
   "name": "python3"
  },
  "language_info": {
   "codemirror_mode": {
    "name": "ipython",
    "version": 3
   },
   "file_extension": ".py",
   "mimetype": "text/x-python",
   "name": "python",
   "nbconvert_exporter": "python",
   "pygments_lexer": "ipython3",
   "version": "3.6.8"
  }
 },
 "nbformat": 4,
 "nbformat_minor": 2
}
